{
 "cells": [
  {
   "cell_type": "markdown",
   "metadata": {},
   "source": [
    "# 1. Motivation\n"
   ]
  },
  {
   "cell_type": "markdown",
   "metadata": {},
   "source": [
    "### What is your dataset?\n"
   ]
  },
  {
   "cell_type": "markdown",
   "metadata": {},
   "source": [
    "My data set is based on the dota 2 pro players the dotamax.com offers at http://dotamax.com/player/pro/. The initial set had 750 nodes. "
   ]
  },
  {
   "cell_type": "markdown",
   "metadata": {},
   "source": [
    "### Why did you choose this/these particular dataset(s)?\n",
    "I like the game a lot and was curious about what facts i can discover by rearching the data."
   ]
  },
  {
   "cell_type": "markdown",
   "metadata": {},
   "source": [
    "### What was your goal for the end user's experience?\n",
    "I wanted the user to find out the following:\n",
    "    * Player the played with most other pros\n",
    "    * Best possible team based on statistics\n",
    "    * Best player based on the heroes scores \n",
    "    * Best player based on their ranking and how similar he is with the other players he played with or against."
   ]
  },
  {
   "cell_type": "markdown",
   "metadata": {},
   "source": [
    "# 2. Basic stats. Let's understand the dataset better\n"
   ]
  },
  {
   "cell_type": "markdown",
   "metadata": {},
   "source": [
    "### Write about your choices in data cleaning and preprocessing\n",
    "Now based on every player, I used the https://docs.opendota.com/ API to retrieve the edges for every node. Everytime a player played with anoter pro, I created an edge. \n",
    "I removed the nodes that had no edges.\n"
   ]
  },
  {
   "cell_type": "code",
   "execution_count": 9,
   "metadata": {
    "collapsed": false
   },
   "outputs": [
    {
     "name": "stdout",
     "output_type": "stream",
     "text": [
      "Number of pros inside the HTML:  765\n",
      "Number of pros inside the dictionary 765\n",
      "printing some examples of players and their id\n",
      "188384233 JJ-\n",
      "76904792 poloson\n",
      "43720230 Aghanim\n",
      "112127585 판다맨\n",
      "169141480 Varizh\n",
      "154715080 Abed\n",
      "86802844 Mag\n",
      "139174891 897\n",
      "31763321 Jellopy\n",
      "107462128 MasterRamen\n"
     ]
    }
   ],
   "source": [
    "r1 = open('pros.txt','r')\n",
    "s =\"\"\n",
    "for line in r1:\n",
    "    s= s + line\n",
    "k = s.split('</div><div><span style=\"color:#555;\">')\n",
    "print \"Number of pros inside the HTML: \", len(k)-1\n",
    "prosDict={}\n",
    "for i in range(0,len(k)):\n",
    "    try:\n",
    "        l = k[i]\n",
    "        z = l.split('href=\"/player/detail/')\n",
    "        idPlayer = z[1].split('\"><img class=\"match-avatars-img\" style=\"')[0]\n",
    "        y =z[1].split('</img><div style=\"margin-top: 8px;\">') \n",
    "        y1 = y[len(y)-1]\n",
    "        namePlayer = y1.split('<span class=\"glyphicon glyphicon-ok\"')[0]\n",
    "        namePlayer.strip()\n",
    "        if '</font>' in namePlayer:\n",
    "            namePlayer = namePlayer.split('</font>')[1]\n",
    "\n",
    "        prosDict[idPlayer] = namePlayer.strip()\n",
    "    except:\n",
    "        m=0\n",
    "print \"Number of pros inside the dictionary\", len(prosDict)\n",
    "print \"printing some examples of players and their id\"\n",
    "counter = 0\n",
    "for i in prosDict:\n",
    "    print i, prosDict[i]\n",
    "    counter=counter+1\n",
    "    if counter==10:\n",
    "        break"
   ]
  },
  {
   "cell_type": "markdown",
   "metadata": {},
   "source": [
    "# 3. Tools, theory and analysis. Describe the process of theory to insight\n"
   ]
  },
  {
   "cell_type": "markdown",
   "metadata": {},
   "source": [
    "### Adding the edges"
   ]
  },
  {
   "cell_type": "code",
   "execution_count": 10,
   "metadata": {
    "collapsed": true
   },
   "outputs": [],
   "source": [
    "import networkx as nx\n",
    "G=nx.Graph()\n",
    "import requests\n",
    "maximum = 2000\n",
    "count=0\n",
    "for i in prosDict:\n",
    "    count=count+1\n",
    "    baseurl = \"https://api.opendota.com/api/players/\"+  str(i)+\"/pros\"\n",
    "    response = requests.get(baseurl)\n",
    "    data = response.json()\n",
    "    for j in range(1,len(data)):\n",
    "\n",
    "        fellowProId = str(data[j]['account_id'])\n",
    "        games= data[j]['games']\n",
    "        with_win = data[j]['with_win']\n",
    "        with_games = data[j]['with_games']\n",
    "        against_win = data[j]['against_win']\n",
    "        against_games = data[j]['against_games']\n",
    "        if G.has_edge(i, fellowProId):\n",
    "            if G[i][fellowProId]['games']>games:\n",
    "                G.remove_edge(i,fellowProId)\n",
    "                w = 2000 - games\n",
    "                if w<=0:\n",
    "                    w= 1\n",
    "                G.add_edge(i, fellowProId, weight = w)\n",
    "                G[i][fellowProId]['games'] = games\n",
    "                G[i][fellowProId]['with_win'] = with_win\n",
    "                G[i][fellowProId]['with_games'] = with_games\n",
    "                G[i][fellowProId]['against_win'] = against_win\n",
    "                G[i][fellowProId]['against_games']=against_games\n",
    "        else: \n",
    "            if fellowProId in prosDict:\n",
    "                w = 2000 - games\n",
    "                if w<=0:\n",
    "                    w= 1\n",
    "                G.add_edge(i, fellowProId, weight = w)\n",
    "                G[i][fellowProId]['games'] = games\n",
    "                G[i][fellowProId]['with_win'] = with_win\n",
    "                G[i][fellowProId]['with_games'] = with_games\n",
    "                G[i][fellowProId]['against_win'] = against_win\n",
    "                G[i][fellowProId]['against_games']=against_games"
   ]
  },
  {
   "cell_type": "code",
   "execution_count": 11,
   "metadata": {
    "collapsed": false
   },
   "outputs": [
    {
     "name": "stdout",
     "output_type": "stream",
     "text": [
      "Number of edges before deleting some:  87234\n"
     ]
    }
   ],
   "source": [
    "print \"Number of edges before deleting some: \",len(G.edges())"
   ]
  },
  {
   "cell_type": "markdown",
   "metadata": {},
   "source": [
    "### After having all the edges and nice data stats like their winrate together, I removed all the edges between nodes that played less then 50 games together. "
   ]
  },
  {
   "cell_type": "code",
   "execution_count": 16,
   "metadata": {
    "collapsed": false
   },
   "outputs": [
    {
     "name": "stdout",
     "output_type": "stream",
     "text": [
      "NUmber of edges with more then 50 games: 7905\n"
     ]
    }
   ],
   "source": [
    "H= G.copy()\n",
    "for edge1,edge2 in H.edges():\n",
    "    if H[edge1][edge2]!='name':\n",
    "        if H[edge1][edge2]['games']<50:\n",
    "            H.remove_edge(edge1,edge2)\n",
    "print \"NUmber of edges with more then 50 games:\", len(H.edges())"
   ]
  },
  {
   "cell_type": "markdown",
   "metadata": {},
   "source": [
    "### Getting regions for each player  and save it in a dictionary:regionsDict with the player's id as key\n"
   ]
  },
  {
   "cell_type": "code",
   "execution_count": null,
   "metadata": {
    "collapsed": true
   },
   "outputs": [],
   "source": [
    "count =0\n",
    "regionsDict={}\n",
    "for i in prosDict:\n",
    "    \n",
    "    count=count+1\n",
    "    print (count/765.0) \n",
    "    baseurl = \"https://api.opendota.com/api/players/\"+  str(i)+\"/counts\"\n",
    "    response = requests.get(baseurl)\n",
    "    data = response.json()\n",
    "\n",
    "    maxi= 0\n",
    "    region = 0\n",
    "    try:\n",
    "        for k in data[\"region\"]:\n",
    "            if data[\"region\"][k][\"games\"]>maxi:\n",
    "                maxi = data[\"region\"][k][\"games\"]\n",
    "                region = int(k)\n",
    "        regionsDict[i] = region\n",
    "    except:\n",
    "        regionsDict[i] = 25\n",
    "        print i, \"error\""
   ]
  },
  {
   "cell_type": "markdown",
   "metadata": {},
   "source": [
    "### Getting their ranking   and save it in a dictionary:mmrDict with the player's id as key"
   ]
  },
  {
   "cell_type": "code",
   "execution_count": null,
   "metadata": {
    "collapsed": true
   },
   "outputs": [],
   "source": [
    "mmrDict = {}\n",
    "for i in prosDict:\n",
    "    count=count+1\n",
    "    baseurl = \"https://api.opendota.com/api/players/\"+  str(i)\n",
    "    response = requests.get(baseurl)\n",
    "    data = response.json()\n",
    "    try:\n",
    "        soloMMr = data[\"solo_competitive_rank\"]\n",
    "        if soloMMr==None:\n",
    "            soloMMr = data[\"mmr_estimate\"][\"estimate\"]\n",
    "        mmrDict[i]= int(soloMMr)\n",
    "    except:\n",
    "\n",
    "        print \"error\"\n",
    "        mmrDict[i]=-1"
   ]
  },
  {
   "cell_type": "markdown",
   "metadata": {},
   "source": [
    "### Getting ranking of players for each hero  "
   ]
  },
  {
   "cell_type": "markdown",
   "metadata": {},
   "source": [
    "* First I needed to get all heroes, i saved those in heroesDict\n",
    "* now base on the heroes and players, i created a network called heroesGraph. "
   ]
  },
  {
   "cell_type": "code",
   "execution_count": null,
   "metadata": {
    "collapsed": true
   },
   "outputs": [],
   "source": [
    "##https://api.opendota.com/api/heroes\n",
    "heroesDict = {}\n",
    "baseurl = \"https://api.opendota.com/api/heroes/\"\n",
    "response = requests.get(baseurl)\n",
    "data = response.json()\n",
    "for i in data:\n",
    "    heroesDict[i['id']]= i['localized_name']\n",
    "heroesGraph = nx.Graph()\n",
    "for i in heroesDict:\n",
    "    baseurl = \"https://api.opendota.com/api/rankings?hero_id=\" + str(i)\n",
    "    response = requests.get(baseurl)\n",
    "    data = response.json()\n",
    "    for k in data['rankings']:\n",
    "        accountId = k['account_id']\n",
    "        if accountId in prosDict:\n",
    "            heroesGraph.add_edge(i, accountId)"
   ]
  },
  {
   "cell_type": "markdown",
   "metadata": {},
   "source": [
    "### Calculating the best teams\n"
   ]
  },
  {
   "cell_type": "markdown",
   "metadata": {},
   "source": [
    "### This is the algorithm is used for calculating the best teams"
   ]
  },
  {
   "cell_type": "code",
   "execution_count": 14,
   "metadata": {
    "collapsed": false
   },
   "outputs": [
    {
     "name": "stdout",
     "output_type": "stream",
     "text": [
      "hellllooooo\n"
     ]
    }
   ],
   "source": [
    "L = G.copy()\n",
    "for edge1,edge2 in L.edges():\n",
    "    if L[edge1][edge2][\"with_games\"]<50:\n",
    "        L.remove_edge(edge1,edge2)\n",
    "for edge1,edge2 in L.edges():\n",
    "    if (L[edge1][edge2][\"with_win\"]+0.0)/L[edge1][edge2][\"with_games\"]<0.65:\n",
    "        L.remove_edge(edge1,edge2)\n",
    "\n",
    "dictWinners ={}\n",
    "counter = 0\n",
    "for edge1,edge2 in L.edges():\n",
    "    #print edge1,edge2,L[edge1][edge2][\"with_win\"],L[edge1][edge2][\"with_games\"],(L[edge1][edge2][\"with_win\"]+0.0)/L[edge1][edge2][\"with_games\"]\n",
    "    s1 = set(L.neighbors(edge1))\n",
    "    s1.add(edge1)\n",
    "\n",
    "    s2 = set(L.neighbors(edge2))\n",
    "    s2.add(edge2)\n",
    "    s1=s1.intersection(s2)\n",
    "    for i in s1:\n",
    "        s3 = set(L.neighbors(i))\n",
    "        s3 =s3.intersection(s1)\n",
    "        for k in s3:\n",
    "            if edge1 in L.neighbors(k) and edge2 in L.neighbors(k):\n",
    "                s4 = set(L.neighbors(k))\n",
    "                s4 = s4.intersection(s3)\n",
    "                for j in s4:\n",
    "                    if edge1 in L.neighbors(j) and edge2 in L.neighbors(j) and i in L.neighbors(j):\n",
    "                        list1 = [edge1,edge2,i,k,j]\n",
    "                        set1= set(list1)\n",
    "                        if (len(set1)>4):\n",
    "                            dictWinners[counter] = list1\n",
    "                            counter = counter+1\n",
    "counter = 0\n",
    "for k in dictWinners:\n",
    "    i=dictWinners[k]\n",
    "    if L.has_edge(i[0],i[1]) and L.has_edge(i[0],i[2]) and L.has_edge(i[0],i[3]) and L.has_edge(i[0],i[4]) and L.has_edge(i[1],i[2]) and L.has_edge(i[1],i[3]) and L.has_edge(i[1],i[4]) and L.has_edge(i[2],i[3]) and L.has_edge(i[2],i[4]) and L.has_edge(i[3],i[4]):\n",
    "        counter= counter +1\n",
    "        countA = 0\n",
    "        average = 0.0\n",
    "        for a in range(0,4):\n",
    "            for b in range(a+1,5):\n",
    "                average  = average + (L[i[a]][i[b]][\"with_win\"]+0.0)/ L[i[a]][i[b]][\"with_games\"]\n",
    "                countA= countA+1\n",
    "        average = average /countA\n",
    "        averages[k] = average\n",
    "        \n",
    "import operator\n",
    "sorted_x = sorted(averages.items(), key=operator.itemgetter(1), reverse= True )\n",
    "value = 0\n",
    "s = []\n",
    "for i,j in sorted_x:\n",
    "    if value != j:\n",
    "        s.append(i)\n",
    "        value = j\n",
    "counter=1\n",
    "lastAverage=1\n",
    "for i in s:\n",
    "    if lastAverage-averages[i]>0.001:\n",
    "        print \"Team \",counter\n",
    "        mmrAverage=0\n",
    "        for k in range(0,5):\n",
    "            playerk =dictWinners[i][k]\n",
    "            #https://api.opendota.com/api/players/19757254\n",
    "            baseurl = \"https://api.opendota.com/api/players/\"+  str(playerk)\n",
    "            response = requests.get(baseurl)\n",
    "            data = response.json()\n",
    "            soloMMr = data[\"solo_competitive_rank\"]\n",
    "            if soloMMr==None:\n",
    "                soloMMr = data[\"mmr_estimate\"][\"estimate\"]\n",
    "            \n",
    "            mmrAverage= mmrAverage+ int(soloMMr)\n",
    "            print \"Id: \",dictWinners[i][k], \", Name: \",prosDict[dictWinners[i][k]], \", Ranking: \", soloMMr\n",
    "        print \"Winrate average: \",averages[i],\",Team Average ranking: \", mmrAverage/5.0\n",
    "        lastAverage= averages[i]\n",
    "        counter=counter+1\n"
   ]
  },
  {
   "cell_type": "markdown",
   "metadata": {},
   "source": [
    "### The Friendship Paradox: in how many cases does a player has links that have more other links in average?"
   ]
  },
  {
   "cell_type": "code",
   "execution_count": 25,
   "metadata": {
    "collapsed": false
   },
   "outputs": [
    {
     "name": "stdout",
     "output_type": "stream",
     "text": [
      "The paradox is true in this case for 436 times 547\n"
     ]
    }
   ],
   "source": [
    "\n",
    "count =0\n",
    "for r_Node in H:\n",
    "    ##r_Node = random.choice(H.nodes())\n",
    "    averageDegree=0.0\n",
    "    \n",
    "    for i in H.neighbors(r_Node):\n",
    "        averageDegree = averageDegree + H.degree(i);\n",
    "    averageDegree= averageDegree / len(H.neighbors(r_Node)) \n",
    "    \n",
    "    if (averageDegree > H.degree(r_Node)):\n",
    "        count = count+1\n",
    "print \"The paradox is true in this case for\", count, \"times\", len(H.nodes())"
   ]
  },
  {
   "cell_type": "markdown",
   "metadata": {},
   "source": [
    "### Exporting everything to the website as a javascript dataSet\n"
   ]
  },
  {
   "cell_type": "markdown",
   "metadata": {},
   "source": [
    "#### This is an example of how i exported the rankings of players and names for the website. I did the same for all the data of the website"
   ]
  },
  {
   "cell_type": "code",
   "execution_count": null,
   "metadata": {
    "collapsed": true
   },
   "outputs": [],
   "source": [
    "f = open('dotaMMR.js', 'w')\n",
    "f.write(\"var nodes = [\\n\")\n",
    "for node in H.nodes():\n",
    "    #strings = '{id: ',node,\", label: '\",prosDict[node],\"'\", \", title: 'Country: ' + '\", country,\"'+ '<br>' + 'Team: ' + ' \",teamDict[node],\"', value: 22, group:24, x:1, y:2\",'},'\n",
    "    try:\n",
    "        value = (int(mmrDict[node])-4000)/10\n",
    "        if value<100:\n",
    "            value = 100\n",
    "        if value>450:\n",
    "            value=800\n",
    "        mmr = str(int(mmrDict[node]))\n",
    "        s = \"{id: %s, label: '%s', title: 'MMR: ' + '%s' + '<br>' + 'Team: ' + '%s' + '<br>'+'Edges: '+ '%s', value: %s, group: %s, x: -1392.5499, y: 1124.1614},\\n\" % (str(node), prosDict[node], mmr,  teamDict[node],H.degree(node), value, int(mmr)/1000 )\n",
    "        print s\n",
    "        f.write(s)\n",
    "    except:\n",
    "        print 'error',node\n",
    "    \n",
    "f.write('];')\n",
    "f.write(\"var edges = [\")\n",
    "#var edges = [\n",
    "  #{from: 1, to: 15},\n",
    "for edge1,edge2 in H.edges():\n",
    "    s = \"{from: %s, to: %s},\\n\" %(edge1,edge2)\n",
    "    print s\n",
    "    f.write(s)    \n",
    "f.write('];')\n",
    "f.close()  "
   ]
  },
  {
   "cell_type": "markdown",
   "metadata": {},
   "source": [
    "## Everything else was done inside the Website with the help of javascript\n",
    "* showing communities \n",
    "* calculating the similarity of players based on their heroes with other players\n",
    "* showing the mmr distribution and how similar are players with their links based on MMR ranking\n",
    "* showing second degree neighbors ( neighbors of neighbors)\n"
   ]
  },
  {
   "cell_type": "markdown",
   "metadata": {},
   "source": [
    "\n",
    "### Talk about how you've worked with text, including regular expressions, unicode, etc.\n"
   ]
  },
  {
   "cell_type": "markdown",
   "metadata": {},
   "source": [
    "\n",
    "#### I downloaded the wordcloud for every pro and created a semtiment score based on the words he wrote in all chat against other players."
   ]
  },
  {
   "cell_type": "markdown",
   "metadata": {},
   "source": [
    "#### First loading the datasets of words needed for calculating sentiment"
   ]
  },
  {
   "cell_type": "markdown",
   "metadata": {},
   "source": [
    "#loading the dataset of words\n",
    "dataset = open('dataset.txt','r')\n",
    "happiness_average = {}\n",
    "for line in dataset:\n",
    "    \n",
    "    if line[0]!=\"#\":\n",
    "        words = line.split()\n",
    "        happiness_average[words[0]] = words[2]\n",
    "len(happiness_average)\n"
   ]
  },
  {
   "cell_type": "markdown",
   "metadata": {},
   "source": [
    "#### Creating an algorithm for calculating the sentiment score"
   ]
  },
  {
   "cell_type": "code",
   "execution_count": null,
   "metadata": {
    "collapsed": true
   },
   "outputs": [],
   "source": [
    "import nltk\n",
    "porter = nltk.PorterStemmer()\n",
    "\n",
    "def sentiment(words):\n",
    "    sentimentAverage= 0.0\n",
    "    counter=0\n",
    "    for word in words:\n",
    "        try:\n",
    "            \n",
    "            if word in happiness_average:\n",
    "                sentimentAverage = sentimentAverage + float(happiness_average[word])\n",
    "                counter +=1##adding word score to sum\n",
    "            else:\n",
    "                sentimentAverage += float(happiness_average[porter.stem(word)])\n",
    "                counter +=1##if word wasn't found, I stem it and try again by adding it\n",
    "           \n",
    "                \n",
    "            #print sentimentAverage\n",
    "        except:\n",
    "            l=0\n",
    "    #print counter\n",
    "    if counter!=0:\n",
    "        return sentimentAverage/counter\n",
    "    else:\n",
    "        return -1  ###returning -1 as a complaint \n"
   ]
  },
  {
   "cell_type": "markdown",
   "metadata": {},
   "source": [
    "##### Saving the score for each player in a dictionary"
   ]
  },
  {
   "cell_type": "code",
   "execution_count": null,
   "metadata": {
    "collapsed": true
   },
   "outputs": [],
   "source": [
    "allWords= {}\n",
    "counter = 0\n",
    "for i in prosDict:\n",
    "    try:\n",
    "        baseurl = \"https://api.opendota.com/api/players/%s/wordcloud/\" % (str(i))\n",
    "\n",
    "        response = requests.get(baseurl)\n",
    "        data = response.json()\n",
    "    \n",
    "        s=\"\"\n",
    "        for k in data['my_word_counts']:\n",
    "            for j in range(0,data['my_word_counts'][k]):\n",
    "                s= s + k + \" \"\n",
    "        tokens = s.lower().split()\n",
    "        score = sentiment(tokens)\n",
    "        allWords[i] = score\n",
    "        \n",
    "    except:\n",
    "        allWords[i] = -200"
   ]
  },
  {
   "cell_type": "markdown",
   "metadata": {},
   "source": [
    "# 4. Discussion. Think critically about your creation\n"
   ]
  },
  {
   "cell_type": "markdown",
   "metadata": {},
   "source": [
    "### What went well?,\n",
    "More or less, I got I was looking for.I was able to find the players with most edges, the players with highest ranking, the players with most heroes played and also if it matters what ranking you have and you're sentiment is based on that. "
   ]
  },
  {
   "cell_type": "markdown",
   "metadata": {},
   "source": [
    "### What is still missing? What could be improved?, Why?"
   ]
  },
  {
   "cell_type": "markdown",
   "metadata": {},
   "source": [
    "* More analysis for every game played by every player could be done and find if their sentiment changes when they lose or win games\n"
   ]
  },
  {
   "cell_type": "code",
   "execution_count": null,
   "metadata": {
    "collapsed": true
   },
   "outputs": [],
   "source": []
  }
 ],
 "metadata": {
  "kernelspec": {
   "display_name": "Python [Root]",
   "language": "python",
   "name": "Python [Root]"
  },
  "language_info": {
   "codemirror_mode": {
    "name": "ipython",
    "version": 2
   },
   "file_extension": ".py",
   "mimetype": "text/x-python",
   "name": "python",
   "nbconvert_exporter": "python",
   "pygments_lexer": "ipython2",
   "version": "2.7.12"
  }
 },
 "nbformat": 4,
 "nbformat_minor": 0
}
